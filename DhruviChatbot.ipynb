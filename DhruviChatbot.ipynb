{
  "cells": [
    {
      "cell_type": "markdown",
      "metadata": {
        "id": "view-in-github",
        "colab_type": "text"
      },
      "source": [
        "<a href=\"https://colab.research.google.com/github/DiyaMotwani/DiyaChatbot/blob/main/DiyaChatbot.ipynb\" target=\"_parent\"><img src=\"https://colab.research.google.com/assets/colab-badge.svg\" alt=\"Open In Colab\"/></a>"
      ]
    },
    {
      "cell_type": "code",
      "execution_count": 11,
      "metadata": {
        "colab": {
          "base_uri": "https://localhost:8080/"
        },
        "id": "bTquWwjT64tx",
        "outputId": "240e3f76-03e4-4859-8214-1aa90035d3ee"
      },
      "outputs": [
        {
          "output_type": "stream",
          "name": "stderr",
          "text": [
            "[nltk_data] Downloading package omw-1.4 to /root/nltk_data...\n",
            "[nltk_data]   Package omw-1.4 is already up-to-date!\n"
          ]
        },
        {
          "output_type": "execute_result",
          "data": {
            "text/plain": [
              "True"
            ]
          },
          "metadata": {},
          "execution_count": 11
        }
      ],
      "source": [
        "import numpy as np\n",
        "import nltk\n",
        "import string\n",
        "import random\n",
        "\n",
        "nltk.download('omw-1.4')\n",
        "\n"
      ]
    },
    {
      "cell_type": "code",
      "execution_count": 12,
      "metadata": {
        "id": "oAmmI7kc7SbV",
        "colab": {
          "base_uri": "https://localhost:8080/"
        },
        "outputId": "1aae9846-4577-48e2-dad4-e71d58b0a953"
      },
      "outputs": [
        {
          "output_type": "stream",
          "name": "stderr",
          "text": [
            "[nltk_data] Downloading package punkt to /root/nltk_data...\n",
            "[nltk_data]   Package punkt is already up-to-date!\n",
            "[nltk_data] Downloading package wordnet to /root/nltk_data...\n",
            "[nltk_data]   Package wordnet is already up-to-date!\n"
          ]
        }
      ],
      "source": [
        "f=open('DDUassistant.txt','r',errors='ignore')\n",
        "raw_doc=f.read()\n",
        "raw_doc=raw_doc.lower()#convert text to lowercase\n",
        "nltk.download('punkt')#using the punkl tokenizer\n",
        "nltk.download('wordnet')#using the wordnet dictionary\n",
        "sent_token=nltk.sent_tokenize(raw_doc)#convert doc to list of sentence\n",
        "word_token=nltk.word_tokenize(raw_doc)#convert doc to list of words"
      ]
    },
    {
      "cell_type": "code",
      "execution_count": 13,
      "metadata": {
        "colab": {
          "base_uri": "https://localhost:8080/"
        },
        "id": "pc_Zei76KHVt",
        "outputId": "05d33f5a-e243-49b2-938a-90d690c692d6"
      },
      "outputs": [
        {
          "output_type": "execute_result",
          "data": {
            "text/plain": [
              "['ce department:\\nif we take note of the important turning points in history, the advent of computers would surely be on the top of the list.computer engineering involves computers continue to have a significant impact on the way we look at the world; and people well-versed in them, remain in great demand.',\n",
              " \"to fulfil that requirement, the department of computer engineering was established in the year 1985 with a bachelor's degree course in computer engineering.\"]"
            ]
          },
          "metadata": {},
          "execution_count": 13
        }
      ],
      "source": [
        "sent_token[:2]"
      ]
    },
    {
      "cell_type": "code",
      "execution_count": 14,
      "metadata": {
        "colab": {
          "base_uri": "https://localhost:8080/"
        },
        "id": "oNnJTV1cLMJc",
        "outputId": "fad25b1f-2a99-4e50-ec8e-74478eed3b9e"
      },
      "outputs": [
        {
          "output_type": "execute_result",
          "data": {
            "text/plain": [
              "['ce', 'department']"
            ]
          },
          "metadata": {},
          "execution_count": 14
        }
      ],
      "source": [
        "word_token[:2]"
      ]
    },
    {
      "cell_type": "code",
      "execution_count": 15,
      "metadata": {
        "id": "Ylddaa8CLdVG"
      },
      "outputs": [],
      "source": [
        "lemmer = nltk.stem.WordNetLemmatizer()\n",
        "def LemTokens(tokens):\n",
        "  return [lemmer.lemmatize(token) for token in tokens]\n",
        "remove_punct_dict=dict((ord(punct), None) for punct in string.punctuation)\n",
        "def LemNormalize(text):\n",
        "  return LemTokens(nltk.word_tokenize(text.lower().translate(remove_punct_dict)))"
      ]
    },
    {
      "cell_type": "code",
      "execution_count": 16,
      "metadata": {
        "id": "lRnSsajkN0vP"
      },
      "outputs": [],
      "source": [
        "GREET_INPUTS=(\"hello\",\"hi\",\"hii\",\"hey\",\"what's up\")\n",
        "GREET_RESPONSES=[\"hi\",\"HELLO\",\"*nods*\",\"Hi there\",\"always glad to help\",\"I'm glad you're talking to me\"]\n",
        "def greet(sentence):\n",
        "  for word in sentence.split():\n",
        "    if word.lower() in GREET_INPUTS:\n",
        "      return random.choice(GREET_RESPONSES)"
      ]
    },
    {
      "cell_type": "code",
      "execution_count": 17,
      "metadata": {
        "id": "44uu67o3PT0r"
      },
      "outputs": [],
      "source": [
        "from sklearn.feature_extraction.text import TfidfVectorizer\n",
        "from sklearn.metrics.pairwise import cosine_similarity"
      ]
    },
    {
      "cell_type": "code",
      "execution_count": 18,
      "metadata": {
        "id": "aqhGeOM8PnFi"
      },
      "outputs": [],
      "source": [
        "def response(user_response):\n",
        "  robo1_response=''\n",
        "  TfidVec = TfidfVectorizer(tokenizer=LemNormalize, stop_words='english')\n",
        "  tfidf = TfidVec.fit_transform(sent_token)\n",
        "  vals = cosine_similarity(tfidf[-1], tfidf)\n",
        "  idx = vals.argsort()[0][-2]\n",
        "  flat = vals.flatten()\n",
        "  flat.sort()\n",
        "  req_tfidf = flat[-2]\n",
        "  if(req_tfidf==0):\n",
        "    robo1_response = robo1_response+\"I am sorry! I don't understand you\"\n",
        "    return robo1_response\n",
        "  else:\n",
        "    robo1_response = robo1_response + sent_token[idx]\n",
        "    return robo1_response"
      ]
    },
    {
      "cell_type": "code",
      "execution_count": null,
      "metadata": {
        "colab": {
          "base_uri": "https://localhost:8080/"
        },
        "id": "jwDuaE4RROJB",
        "outputId": "2627c1bd-1a77-4df6-d7ea-b4c3a3774239"
      },
      "outputs": [
        {
          "output_type": "stream",
          "name": "stdout",
          "text": [
            "BOT: Hii I'm your DDU Assistant  . Let's have a conversation! Also, if you want to exit anytime, just type Bye!\n",
            "hi\n",
            "BOT: hi\n",
            "facilities\n",
            "BOT: "
          ]
        },
        {
          "output_type": "stream",
          "name": "stderr",
          "text": [
            "/usr/local/lib/python3.7/dist-packages/sklearn/feature_extraction/text.py:401: UserWarning: Your stop_words may be inconsistent with your preprocessing. Tokenizing the stop words generated tokens ['ha', 'le', 'u', 'wa'] not in stop_words.\n",
            "  % sorted(inconsistent)\n"
          ]
        },
        {
          "output_type": "stream",
          "name": "stdout",
          "text": [
            "social responsibility\n",
            "the department has also contributed to the society by doing community services like\n",
            "conducting several batches covering topics on internet, accounting using tally, photoshop & page maker for sewa (self employment women association) without charging any fees from the participants\n",
            "offering computer and internet education to hearing & speech impaired students of badhir vidyalaya, nadiad; girls of hindu anathashram, nadiad; women of saloon village and school teachers & students of d. p. desai school, nadiad\n",
            "facilities:\n",
            "computing facilities in the department include 6 computer laboratories, which remain available to the students round-the-clock on need basis.\n",
            "gate results\n",
            "BOT: 1. system programming lab\n",
            " 2. advanced computing lab\n",
            " 3. multimedia & internet lab\n",
            " 4. web development lab\n",
            " 5. hardware lab\n",
            " 6. microprocessor lab\n",
            "minor projects:\n",
            "mobile e-learning terminals (melt)\n",
            "eilmt: english to indian language mt\n",
            "indradhanush: wordnet for seven indian languages\n",
            "remote controlled gyro stabilized camera gimbal\n",
            "software module (design of rectangular and non-rectangular rcc columns using visual c++\n",
            "software mdoule for design of rcc retaining wall using c#\n",
            "\n",
            "gate result:\n",
            "1.jaimin chauhan secured 99.66 percentile\n",
            "6 students have scored more than 95 .\n"
          ]
        }
      ],
      "source": [
        "flag=True\n",
        "print(\"BOT: Hii I'm your DDU Assistant  . Let's have a conversation! Also, if you want to exit anytime, just type Bye!\")\n",
        "while(flag==True):\n",
        "  user_response = input()\n",
        "  user_response = user_response.lower()\n",
        "  if(user_response!='bye'):\n",
        "    if(user_response=='thanks' or user_response=='thank you'):\n",
        "      flag=False\n",
        "      print(\"BOT: You're welcome.\")\n",
        "    elif(user_response=='how are you'):\n",
        "      print(\"BOT: I'm fine. Thank you.\")\n",
        "    elif(user_response=='help'):\n",
        "       print (\"BOT: I am always here to help,just ask anytime\")\n",
        "    else:\n",
        "      if(greet(user_response)!=None):\n",
        "        print(\"BOT: \" + greet(user_response))\n",
        "      else:\n",
        "        sent_token.append(user_response)\n",
        "        word_token = word_token+nltk.word_tokenize(user_response)\n",
        "        final_words = list(set(word_token))\n",
        "        print(\"BOT: \", end=\"\")\n",
        "        print(response(user_response))\n",
        "        sent_token.remove(user_response)\n",
        "  else:\n",
        "    flag=False\n",
        "    print(\"BOT: Goodbye! Take care <3\")"
      ]
    },
    {
      "cell_type": "code",
      "execution_count": null,
      "metadata": {
        "id": "abLEiDR_XI23"
      },
      "outputs": [],
      "source": [
        ""
      ]
    },
    {
      "cell_type": "markdown",
      "metadata": {
        "id": "oXOIlWiGhrFb"
      },
      "source": [
        ""
      ]
    }
  ],
  "metadata": {
    "colab": {
      "collapsed_sections": [],
      "name": "DiyaChatbot.ipynb",
      "provenance": [],
      "authorship_tag": "ABX9TyNSqJdaOOzhMTm/mecSEhX8",
      "include_colab_link": true
    },
    "kernelspec": {
      "display_name": "Python 3",
      "name": "python3"
    },
    "language_info": {
      "name": "python"
    }
  },
  "nbformat": 4,
  "nbformat_minor": 0
}